{
  "metadata": {
    "kernelspec": {
      "name": "xpython",
      "display_name": "Python 3.13 (XPython)",
      "language": "python"
    },
    "language_info": {
      "file_extension": ".py",
      "mimetype": "text/x-python",
      "name": "python",
      "version": "3.13.1"
    }
  },
  "nbformat_minor": 5,
  "nbformat": 4,
  "cells": [
    {
      "id": "438a3f44-aa6c-424e-b696-3cbea90ba32f",
      "cell_type": "code",
      "source": "import numpy as np\nfrom scipy import stats\n\n\ndata = np.loadtxt(\"SOCR-HeightWeight.csv\", delimiter=\",\", dtype=str)\n\nheights_str = data[1:25001, 1]  \nweights_str = data[1:25001, 2]\n\nheights = heights_str.astype(float)\nweights = weights_str.astype(float)\n\nmedian_height = np.median(heights)\nmode_height = stats.mode(heights, keepdims=False).mode\nstd_dev_height = np.std(heights)\n\nmedian_weight = np.median(weights)\nmode_weight = stats.mode(weights, keepdims=False).mode\nstd_dev_weight = np.std(weights)\n\nprint(\"Heights:\")\nprint(\"Median:\", median_height)\nprint(\"Mode:\", mode_height)\nprint(\"Standard Deviation:\", std_dev_height)\n\nprint(\"\\nWeights:\")\nprint(\"Median:\", median_weight)\nprint(\"Mode:\", mode_weight)\nprint(\"Standard Deviation:\", std_dev_weight)",
      "metadata": {
        "trusted": true
      },
      "outputs": [],
      "execution_count": null
    }
  ]
}